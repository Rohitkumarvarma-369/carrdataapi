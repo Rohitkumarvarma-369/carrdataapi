{
 "cells": [
  {
   "cell_type": "code",
   "execution_count": 1,
   "id": "afecba50",
   "metadata": {},
   "outputs": [],
   "source": [
    "import pandas as pd\n",
    "import matplotlib.pyplot as plt\n",
    "import seaborn as sns\n",
    "from sklearn.model_selection import train_test_split\n",
    "from sklearn.linear_model import LinearRegression\n",
    "from sklearn.linear_model import Lasso\n",
    "from sklearn import metrics\n",
    "import pickle\n",
    "\n",
    "\n",
    "%matplotlib inline     \n",
    "sns.set(color_codes=True)"
   ]
  },
  {
   "cell_type": "code",
   "execution_count": 2,
   "id": "8e2c4799",
   "metadata": {},
   "outputs": [
    {
     "name": "stdout",
     "output_type": "stream",
     "text": [
      "  Car_Name  Year  Selling_Price  Present_Price  Kms_Driven Fuel_Type  \\\n",
      "0     ritz  2014           3.35           5.59       27000    Petrol   \n",
      "1      sx4  2013           4.75           9.54       43000    Diesel   \n",
      "2     ciaz  2017           7.25           9.85        6900    Petrol   \n",
      "3  wagon r  2011           2.85           4.15        5200    Petrol   \n",
      "4    swift  2014           4.60           6.87       42450    Diesel   \n",
      "\n",
      "  Seller_Type Transmission  Owner  \n",
      "0      Dealer       Manual      0  \n",
      "1      Dealer       Manual      0  \n",
      "2      Dealer       Manual      0  \n",
      "3      Dealer       Manual      0  \n",
      "4      Dealer       Manual      0  \n"
     ]
    }
   ],
   "source": [
    "#importing the data\n",
    "df = pd.read_csv('cardata.csv');\n",
    "print(df.head())"
   ]
  },
  {
   "cell_type": "code",
   "execution_count": 3,
   "id": "c2339610",
   "metadata": {},
   "outputs": [
    {
     "name": "stdout",
     "output_type": "stream",
     "text": [
      "False\n"
     ]
    }
   ],
   "source": [
    "print(df.isnull().values.any())"
   ]
  },
  {
   "cell_type": "code",
   "execution_count": 4,
   "id": "341a1370",
   "metadata": {},
   "outputs": [
    {
     "data": {
      "text/html": [
       "<div>\n",
       "<style scoped>\n",
       "    .dataframe tbody tr th:only-of-type {\n",
       "        vertical-align: middle;\n",
       "    }\n",
       "\n",
       "    .dataframe tbody tr th {\n",
       "        vertical-align: top;\n",
       "    }\n",
       "\n",
       "    .dataframe thead th {\n",
       "        text-align: right;\n",
       "    }\n",
       "</style>\n",
       "<table border=\"1\" class=\"dataframe\">\n",
       "  <thead>\n",
       "    <tr style=\"text-align: right;\">\n",
       "      <th></th>\n",
       "      <th>Car_Name</th>\n",
       "      <th>Selling_Price</th>\n",
       "      <th>Present_Price</th>\n",
       "      <th>Kms_Driven</th>\n",
       "      <th>Fuel_Type</th>\n",
       "      <th>Seller_Type</th>\n",
       "      <th>Transmission</th>\n",
       "      <th>Owner</th>\n",
       "      <th>gap_years</th>\n",
       "    </tr>\n",
       "  </thead>\n",
       "  <tbody>\n",
       "    <tr>\n",
       "      <th>0</th>\n",
       "      <td>ritz</td>\n",
       "      <td>3.35</td>\n",
       "      <td>5.59</td>\n",
       "      <td>27000</td>\n",
       "      <td>Petrol</td>\n",
       "      <td>Dealer</td>\n",
       "      <td>Manual</td>\n",
       "      <td>0</td>\n",
       "      <td>8</td>\n",
       "    </tr>\n",
       "    <tr>\n",
       "      <th>1</th>\n",
       "      <td>sx4</td>\n",
       "      <td>4.75</td>\n",
       "      <td>9.54</td>\n",
       "      <td>43000</td>\n",
       "      <td>Diesel</td>\n",
       "      <td>Dealer</td>\n",
       "      <td>Manual</td>\n",
       "      <td>0</td>\n",
       "      <td>9</td>\n",
       "    </tr>\n",
       "    <tr>\n",
       "      <th>2</th>\n",
       "      <td>ciaz</td>\n",
       "      <td>7.25</td>\n",
       "      <td>9.85</td>\n",
       "      <td>6900</td>\n",
       "      <td>Petrol</td>\n",
       "      <td>Dealer</td>\n",
       "      <td>Manual</td>\n",
       "      <td>0</td>\n",
       "      <td>5</td>\n",
       "    </tr>\n",
       "    <tr>\n",
       "      <th>3</th>\n",
       "      <td>wagon r</td>\n",
       "      <td>2.85</td>\n",
       "      <td>4.15</td>\n",
       "      <td>5200</td>\n",
       "      <td>Petrol</td>\n",
       "      <td>Dealer</td>\n",
       "      <td>Manual</td>\n",
       "      <td>0</td>\n",
       "      <td>11</td>\n",
       "    </tr>\n",
       "    <tr>\n",
       "      <th>4</th>\n",
       "      <td>swift</td>\n",
       "      <td>4.60</td>\n",
       "      <td>6.87</td>\n",
       "      <td>42450</td>\n",
       "      <td>Diesel</td>\n",
       "      <td>Dealer</td>\n",
       "      <td>Manual</td>\n",
       "      <td>0</td>\n",
       "      <td>8</td>\n",
       "    </tr>\n",
       "  </tbody>\n",
       "</table>\n",
       "</div>"
      ],
      "text/plain": [
       "  Car_Name  Selling_Price  Present_Price  Kms_Driven Fuel_Type Seller_Type  \\\n",
       "0     ritz           3.35           5.59       27000    Petrol      Dealer   \n",
       "1      sx4           4.75           9.54       43000    Diesel      Dealer   \n",
       "2     ciaz           7.25           9.85        6900    Petrol      Dealer   \n",
       "3  wagon r           2.85           4.15        5200    Petrol      Dealer   \n",
       "4    swift           4.60           6.87       42450    Diesel      Dealer   \n",
       "\n",
       "  Transmission  Owner  gap_years  \n",
       "0       Manual      0          8  \n",
       "1       Manual      0          9  \n",
       "2       Manual      0          5  \n",
       "3       Manual      0         11  \n",
       "4       Manual      0          8  "
      ]
     },
     "execution_count": 4,
     "metadata": {},
     "output_type": "execute_result"
    }
   ],
   "source": [
    "#here we can see a year row, rather than keeping it as an year, we can find the difference between the current year and the year of manufacture\n",
    "#and store the difference for better analysis\n",
    "df[\"Current_Year\"]=2022\n",
    "df[\"gap_years\"]=df[\"Current_Year\"]-df[\"Year\"]\n",
    "df=df.drop([\"Current_Year\",\"Year\"],axis=1)\n",
    "df.head()"
   ]
  },
  {
   "cell_type": "code",
   "execution_count": 5,
   "id": "929f0751",
   "metadata": {},
   "outputs": [
    {
     "name": "stdout",
     "output_type": "stream",
     "text": [
      "Petrol    239\n",
      "Diesel     60\n",
      "CNG         2\n",
      "Name: Fuel_Type, dtype: int64\n",
      "--------------------\n",
      "\n",
      "Dealer        195\n",
      "Individual    106\n",
      "Name: Seller_Type, dtype: int64\n",
      "--------------------\n",
      "\n",
      "Manual       261\n",
      "Automatic     40\n",
      "Name: Transmission, dtype: int64\n",
      "--------------------\n",
      "\n",
      "0    290\n",
      "1     10\n",
      "3      1\n",
      "Name: Owner, dtype: int64\n",
      "--------------------\n",
      "\n"
     ]
    }
   ],
   "source": [
    "#We can encode the categorical data\n",
    "#categorical data features:\n",
    "#fuel, seller_type, transmission, owner\n",
    "print(df[\"Fuel_Type\"].value_counts())\n",
    "print(\"--------------------\\n\")\n",
    "print(df[\"Seller_Type\"].value_counts())\n",
    "print(\"--------------------\\n\")\n",
    "print(df[\"Transmission\"].value_counts())\n",
    "print(\"--------------------\\n\")\n",
    "print(df[\"Owner\"].value_counts())\n",
    "print(\"--------------------\\n\")"
   ]
  },
  {
   "cell_type": "code",
   "execution_count": 6,
   "id": "23fde8bb",
   "metadata": {},
   "outputs": [
    {
     "data": {
      "text/html": [
       "<div>\n",
       "<style scoped>\n",
       "    .dataframe tbody tr th:only-of-type {\n",
       "        vertical-align: middle;\n",
       "    }\n",
       "\n",
       "    .dataframe tbody tr th {\n",
       "        vertical-align: top;\n",
       "    }\n",
       "\n",
       "    .dataframe thead th {\n",
       "        text-align: right;\n",
       "    }\n",
       "</style>\n",
       "<table border=\"1\" class=\"dataframe\">\n",
       "  <thead>\n",
       "    <tr style=\"text-align: right;\">\n",
       "      <th></th>\n",
       "      <th>Car_Name</th>\n",
       "      <th>Selling_Price</th>\n",
       "      <th>Present_Price</th>\n",
       "      <th>Kms_Driven</th>\n",
       "      <th>Fuel_Type</th>\n",
       "      <th>Seller_Type</th>\n",
       "      <th>Transmission</th>\n",
       "      <th>Owner</th>\n",
       "      <th>gap_years</th>\n",
       "    </tr>\n",
       "  </thead>\n",
       "  <tbody>\n",
       "    <tr>\n",
       "      <th>0</th>\n",
       "      <td>ritz</td>\n",
       "      <td>3.35</td>\n",
       "      <td>5.59</td>\n",
       "      <td>27000</td>\n",
       "      <td>0</td>\n",
       "      <td>0</td>\n",
       "      <td>0</td>\n",
       "      <td>0</td>\n",
       "      <td>8</td>\n",
       "    </tr>\n",
       "    <tr>\n",
       "      <th>1</th>\n",
       "      <td>sx4</td>\n",
       "      <td>4.75</td>\n",
       "      <td>9.54</td>\n",
       "      <td>43000</td>\n",
       "      <td>1</td>\n",
       "      <td>0</td>\n",
       "      <td>0</td>\n",
       "      <td>0</td>\n",
       "      <td>9</td>\n",
       "    </tr>\n",
       "    <tr>\n",
       "      <th>2</th>\n",
       "      <td>ciaz</td>\n",
       "      <td>7.25</td>\n",
       "      <td>9.85</td>\n",
       "      <td>6900</td>\n",
       "      <td>0</td>\n",
       "      <td>0</td>\n",
       "      <td>0</td>\n",
       "      <td>0</td>\n",
       "      <td>5</td>\n",
       "    </tr>\n",
       "    <tr>\n",
       "      <th>3</th>\n",
       "      <td>wagon r</td>\n",
       "      <td>2.85</td>\n",
       "      <td>4.15</td>\n",
       "      <td>5200</td>\n",
       "      <td>0</td>\n",
       "      <td>0</td>\n",
       "      <td>0</td>\n",
       "      <td>0</td>\n",
       "      <td>11</td>\n",
       "    </tr>\n",
       "    <tr>\n",
       "      <th>4</th>\n",
       "      <td>swift</td>\n",
       "      <td>4.60</td>\n",
       "      <td>6.87</td>\n",
       "      <td>42450</td>\n",
       "      <td>1</td>\n",
       "      <td>0</td>\n",
       "      <td>0</td>\n",
       "      <td>0</td>\n",
       "      <td>8</td>\n",
       "    </tr>\n",
       "  </tbody>\n",
       "</table>\n",
       "</div>"
      ],
      "text/plain": [
       "  Car_Name  Selling_Price  Present_Price  Kms_Driven  Fuel_Type  Seller_Type  \\\n",
       "0     ritz           3.35           5.59       27000          0            0   \n",
       "1      sx4           4.75           9.54       43000          1            0   \n",
       "2     ciaz           7.25           9.85        6900          0            0   \n",
       "3  wagon r           2.85           4.15        5200          0            0   \n",
       "4    swift           4.60           6.87       42450          1            0   \n",
       "\n",
       "   Transmission  Owner  gap_years  \n",
       "0             0      0          8  \n",
       "1             0      0          9  \n",
       "2             0      0          5  \n",
       "3             0      0         11  \n",
       "4             0      0          8  "
      ]
     },
     "execution_count": 6,
     "metadata": {},
     "output_type": "execute_result"
    }
   ],
   "source": [
    "#find and replace method\n",
    "cleanup_nums = {\"Fuel_Type\":     {\"Petrol\": 0, \"Diesel\": 1, \"CNG\":2},\n",
    "                \"Seller_Type\": {\"Dealer\": 0, \"Individual\": 1},\n",
    "                \"Transmission\": {\"Manual\": 0, \"Automatic\": 1}\n",
    "                }\n",
    "\n",
    "df = df.replace(cleanup_nums)\n",
    "df.head()"
   ]
  },
  {
   "cell_type": "code",
   "execution_count": 7,
   "id": "136e5fb2",
   "metadata": {},
   "outputs": [
    {
     "name": "stdout",
     "output_type": "stream",
     "text": [
      "Statistical parameters of the dataset labels: \n",
      "       Selling_Price  Present_Price     Kms_Driven   Fuel_Type  Seller_Type  \\\n",
      "count     301.000000     301.000000     301.000000  301.000000   301.000000   \n",
      "mean        4.661296       7.628472   36947.205980    0.212625     0.352159   \n",
      "std         5.082812       8.644115   38886.883882    0.425801     0.478439   \n",
      "min         0.100000       0.320000     500.000000    0.000000     0.000000   \n",
      "25%         0.900000       1.200000   15000.000000    0.000000     0.000000   \n",
      "50%         3.600000       6.400000   32000.000000    0.000000     0.000000   \n",
      "75%         6.000000       9.900000   48767.000000    0.000000     1.000000   \n",
      "max        35.000000      92.600000  500000.000000    2.000000     1.000000   \n",
      "\n",
      "       Transmission       Owner   gap_years  \n",
      "count    301.000000  301.000000  301.000000  \n",
      "mean       0.132890    0.043189    8.372093  \n",
      "std        0.340021    0.247915    2.891554  \n",
      "min        0.000000    0.000000    4.000000  \n",
      "25%        0.000000    0.000000    6.000000  \n",
      "50%        0.000000    0.000000    8.000000  \n",
      "75%        0.000000    0.000000   10.000000  \n",
      "max        1.000000    3.000000   19.000000  \n",
      "\n",
      "\n",
      "Correlation Matrix: \n",
      "               Selling_Price  Present_Price  Kms_Driven  Fuel_Type  \\\n",
      "Selling_Price       1.000000       0.878983    0.029187   0.509467   \n",
      "Present_Price       0.878983       1.000000    0.203647   0.440415   \n",
      "Kms_Driven          0.029187       0.203647    1.000000   0.166801   \n",
      "Fuel_Type           0.509467       0.440415    0.166801   1.000000   \n",
      "Seller_Type        -0.550724      -0.512030   -0.101419  -0.352415   \n",
      "Transmission        0.367128       0.348715    0.162510   0.080466   \n",
      "Owner              -0.088344       0.008057    0.089216  -0.055705   \n",
      "gap_years          -0.236141       0.047584    0.524342  -0.053643   \n",
      "\n",
      "               Seller_Type  Transmission     Owner  gap_years  \n",
      "Selling_Price    -0.550724      0.367128 -0.088344  -0.236141  \n",
      "Present_Price    -0.512030      0.348715  0.008057   0.047584  \n",
      "Kms_Driven       -0.101419      0.162510  0.089216   0.524342  \n",
      "Fuel_Type        -0.352415      0.080466 -0.055705  -0.053643  \n",
      "Seller_Type       1.000000     -0.063240  0.124269   0.039896  \n",
      "Transmission     -0.063240      1.000000  0.050316   0.000394  \n",
      "Owner             0.124269      0.050316  1.000000   0.182104  \n",
      "gap_years         0.039896      0.000394  0.182104   1.000000  \n",
      "Heatmap of the Correlation Matrix: \n"
     ]
    },
    {
     "data": {
      "image/png": "[encoded data removed]",
      "text/plain": [
       "<Figure size 432x288 with 2 Axes>"
      ]
     },
     "metadata": {},
     "output_type": "display_data"
    }
   ],
   "source": [
    "#Visualization\n",
    "#df.describe() to show the statistical parameters of the dataset's each label\n",
    "print(\"Statistical parameters of the dataset labels: \")\n",
    "print(df.describe())\n",
    "print('\\n')\n",
    "\n",
    "#creating a correlation matrix and its heatmap\n",
    "corrMat = df.corr();\n",
    "print(\"Correlation Matrix: \");\n",
    "print(corrMat);\n",
    "dataplot = sns.heatmap(corrMat, cmap=\"YlGnBu\", annot=True);\n",
    "print(\"Heatmap of the Correlation Matrix: \");\n",
    "plt.show();"
   ]
  },
  {
   "cell_type": "code",
   "execution_count": 8,
   "id": "6768bfed",
   "metadata": {},
   "outputs": [
    {
     "name": "stdout",
     "output_type": "stream",
     "text": [
      "R squared Error :  0.8838169193709795\n"
     ]
    }
   ],
   "source": [
    "X = df.drop(['Car_Name','Selling_Price'],axis=1)\n",
    "Y = df['Selling_Price']\n",
    "\n",
    "X_train, X_test, Y_train, Y_test = train_test_split(X, Y, test_size = 0.2, random_state=2)\n",
    "\n",
    "# loading the linear regression model\n",
    "lin_reg_model = LinearRegression()\n",
    "lin_reg_model.fit(X_train,Y_train)\n",
    "training_data_prediction = lin_reg_model.predict(X_train)\n",
    "error_score = metrics.r2_score(Y_train, training_data_prediction)\n",
    "print(\"R squared Error : \", error_score)"
   ]
  },
  {
   "cell_type": "code",
   "execution_count": 9,
   "id": "77d342a5",
   "metadata": {},
   "outputs": [
    {
     "name": "stdout",
     "output_type": "stream",
     "text": [
      "0.8401532365378394\n"
     ]
    }
   ],
   "source": [
    "pred_y = lin_reg_model.predict(X_test)\n",
    "error_score = metrics.r2_score(Y_test, pred_y)\n",
    "print(error_score)"
   ]
  },
  {
   "cell_type": "code",
   "execution_count": 10,
   "id": "4bb3bf13",
   "metadata": {},
   "outputs": [],
   "source": [
    "pickle.dump(lin_reg_model, open('lin_reg_model.pkl', 'wb'))"
   ]
  },
  {
   "cell_type": "code",
   "execution_count": 11,
   "id": "0abdee06",
   "metadata": {},
   "outputs": [
    {
     "name": "stdout",
     "output_type": "stream",
     "text": [
      "[10.39222503  0.71269634  4.26367425  4.89542882  9.84484784  4.22631808\n",
      "  7.1173891   7.37327394  0.1592961   5.16712598  6.20624893  6.17414198\n",
      "  2.11880837  7.74045843  1.92235986  1.71406658  2.02899942  1.8536463\n",
      "  9.35171759  4.2546458   1.48996098  9.14496453  1.45846216  9.63402658\n",
      "  0.82165042  8.07898502  1.53763892 -3.19873666  4.22373915  2.09526116\n",
      "  3.42865389  3.72427545  5.58001877  7.75879392 -1.91563192  6.80980082\n",
      "  8.20694812  5.81047156  6.15629896  6.27493028 16.02197751  2.07455343\n",
      "  1.04886513 -0.45830577  6.82090538  6.78567581  0.98725428  6.83257783\n",
      " 14.31925066  3.01359825  8.04481951 -0.89441322  8.99139759  1.14814903\n",
      "  2.1191082  -0.82919712  0.68456956 10.02743111 -0.46773344 -2.43254957\n",
      " 10.0831552 ]\n",
      "---------\n",
      "     Present_Price  Kms_Driven  Fuel_Type  Seller_Type  Transmission  Owner  \\\n",
      "99          20.450       50024          1            0             0      0   \n",
      "161          0.826       23000          0            1             0      0   \n",
      "89           6.760       40000          0            0             0      0   \n",
      "30           5.980       51439          1            0             0      0   \n",
      "232         14.790       12900          0            0             1      0   \n",
      "..             ...         ...        ...          ...           ...    ...   \n",
      "172          0.640       13700          0            1             0      0   \n",
      "94          22.780       89000          0            0             1      0   \n",
      "160          0.950       24000          0            1             0      0   \n",
      "199          0.580       53000          0            1             0      0   \n",
      "91          16.090       58242          1            0             0      0   \n",
      "\n",
      "     gap_years  \n",
      "99          12  \n",
      "161          8  \n",
      "89           8  \n",
      "30          10  \n",
      "232          7  \n",
      "..         ...  \n",
      "172          8  \n",
      "94          14  \n",
      "160         11  \n",
      "199         15  \n",
      "91           8  \n",
      "\n",
      "[61 rows x 7 columns]\n",
      "---------\n",
      "99      9.65\n",
      "161     0.45\n",
      "89      4.75\n",
      "30      3.10\n",
      "232    11.45\n",
      "       ...  \n",
      "172     0.40\n",
      "94      4.00\n",
      "160     0.45\n",
      "199     0.12\n",
      "91     11.25\n",
      "Name: Selling_Price, Length: 61, dtype: float64\n"
     ]
    }
   ],
   "source": [
    "pickled_model = pickle.load(open('lin_reg_model.pkl', 'rb'))\n",
    "print(pickled_model.predict(X_test))\n",
    "print(\"---------\")\n",
    "print(X_test)\n",
    "print(\"---------\")\n",
    "print(Y_test)"
   ]
  }
 ],
 "metadata": {
  "kernelspec": {
   "display_name": "Python 3 (ipykernel)",
   "language": "python",
   "name": "python3"
  },
  "language_info": {
   "codemirror_mode": {
    "name": "ipython",
    "version": 3
   },
   "file_extension": ".py",
   "mimetype": "text/x-python",
   "name": "python",
   "nbconvert_exporter": "python",
   "pygments_lexer": "ipython3",
   "version": "3.9.7"
  }
 },
 "nbformat": 4,
 "nbformat_minor": 5
}
